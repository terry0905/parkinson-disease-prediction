{
  "nbformat": 4,
  "nbformat_minor": 0,
  "metadata": {
    "colab": {
      "name": "PD XGB.ipynb",
      "provenance": [],
      "collapsed_sections": []
    },
    "kernelspec": {
      "name": "python3",
      "display_name": "Python 3"
    },
    "language_info": {
      "name": "python"
    }
  },
  "cells": [
    {
      "cell_type": "markdown",
      "metadata": {
        "id": "Vqm1B9UbmGgO"
      },
      "source": [
        "**Parkinson's diseases detection**\n",
        "\n",
        "**Task details:**\n",
        "\n",
        "This dataset is composed of a range of biomedical voice measurements from\n",
        "31 people, 23 with Parkinson's disease (PD). Each column in the table is a\n",
        "particular voice measure, and each row corresponds to one of 195 voice\n",
        "recordings from these individuals (\"name\" column). The main aim of the data\n",
        "is to discriminate healthy people from those with PD, according to the \"status\"\n",
        "column which is set to 0 for healthy and 1 for PD."
      ]
    },
    {
      "cell_type": "markdown",
      "metadata": {
        "id": "DQgPoytumXTV"
      },
      "source": [
        "**IMPORTING DATASET**"
      ]
    },
    {
      "cell_type": "code",
      "metadata": {
        "id": "6sKJkN7lcL2F"
      },
      "source": [
        "import numpy as np\n",
        "import matplotlib.pyplot as plt\n",
        "import pandas as pd"
      ],
      "execution_count": 1,
      "outputs": []
    },
    {
      "cell_type": "code",
      "metadata": {
        "colab": {
          "base_uri": "https://localhost:8080/"
        },
        "id": "bk3coXjOcSAL",
        "outputId": "d5ae0670-3a73-4109-ed0c-8d5a0c220ed1"
      },
      "source": [
        "dataset = pd.read_csv('/content/Parkinsson disease_mod.csv')\n",
        "dataset.info()"
      ],
      "execution_count": 2,
      "outputs": [
        {
          "output_type": "stream",
          "name": "stdout",
          "text": [
            "<class 'pandas.core.frame.DataFrame'>\n",
            "RangeIndex: 195 entries, 0 to 194\n",
            "Data columns (total 24 columns):\n",
            " #   Column            Non-Null Count  Dtype  \n",
            "---  ------            --------------  -----  \n",
            " 0   name              195 non-null    object \n",
            " 1   MDVP:Fo(Hz)       195 non-null    float64\n",
            " 2   MDVP:Fhi(Hz)      195 non-null    float64\n",
            " 3   MDVP:Flo(Hz)      195 non-null    float64\n",
            " 4   MDVP:Jitter(%)    195 non-null    float64\n",
            " 5   MDVP:Jitter(Abs)  195 non-null    float64\n",
            " 6   MDVP:RAP          195 non-null    float64\n",
            " 7   MDVP:PPQ          195 non-null    float64\n",
            " 8   Jitter:DDP        195 non-null    float64\n",
            " 9   MDVP:Shimmer      195 non-null    float64\n",
            " 10  MDVP:Shimmer(dB)  195 non-null    float64\n",
            " 11  Shimmer:APQ3      195 non-null    float64\n",
            " 12  Shimmer:APQ5      195 non-null    float64\n",
            " 13  MDVP:APQ          195 non-null    float64\n",
            " 14  Shimmer:DDA       195 non-null    float64\n",
            " 15  NHR               195 non-null    float64\n",
            " 16  HNR               195 non-null    float64\n",
            " 17  RPDE              195 non-null    float64\n",
            " 18  DFA               195 non-null    float64\n",
            " 19  spread1           195 non-null    float64\n",
            " 20  spread2           195 non-null    float64\n",
            " 21  D2                195 non-null    float64\n",
            " 22  PPE               195 non-null    float64\n",
            " 23  status            195 non-null    int64  \n",
            "dtypes: float64(22), int64(1), object(1)\n",
            "memory usage: 36.7+ KB\n"
          ]
        }
      ]
    },
    {
      "cell_type": "code",
      "metadata": {
        "id": "zmOdnDkefGwS"
      },
      "source": [
        "name=dataset['name']"
      ],
      "execution_count": 5,
      "outputs": []
    },
    {
      "cell_type": "code",
      "metadata": {
        "id": "BnS7_-4cduTi"
      },
      "source": [
        "dataset.drop(['name'], axis=1, inplace=True)"
      ],
      "execution_count": 6,
      "outputs": []
    },
    {
      "cell_type": "code",
      "metadata": {
        "colab": {
          "base_uri": "https://localhost:8080/"
        },
        "id": "jXplQlKFd6Rh",
        "outputId": "97d9d154-a704-455d-d086-316255449bef"
      },
      "source": [
        "dataset.info()"
      ],
      "execution_count": 7,
      "outputs": [
        {
          "output_type": "stream",
          "name": "stdout",
          "text": [
            "<class 'pandas.core.frame.DataFrame'>\n",
            "RangeIndex: 195 entries, 0 to 194\n",
            "Data columns (total 23 columns):\n",
            " #   Column            Non-Null Count  Dtype  \n",
            "---  ------            --------------  -----  \n",
            " 0   MDVP:Fo(Hz)       195 non-null    float64\n",
            " 1   MDVP:Fhi(Hz)      195 non-null    float64\n",
            " 2   MDVP:Flo(Hz)      195 non-null    float64\n",
            " 3   MDVP:Jitter(%)    195 non-null    float64\n",
            " 4   MDVP:Jitter(Abs)  195 non-null    float64\n",
            " 5   MDVP:RAP          195 non-null    float64\n",
            " 6   MDVP:PPQ          195 non-null    float64\n",
            " 7   Jitter:DDP        195 non-null    float64\n",
            " 8   MDVP:Shimmer      195 non-null    float64\n",
            " 9   MDVP:Shimmer(dB)  195 non-null    float64\n",
            " 10  Shimmer:APQ3      195 non-null    float64\n",
            " 11  Shimmer:APQ5      195 non-null    float64\n",
            " 12  MDVP:APQ          195 non-null    float64\n",
            " 13  Shimmer:DDA       195 non-null    float64\n",
            " 14  NHR               195 non-null    float64\n",
            " 15  HNR               195 non-null    float64\n",
            " 16  RPDE              195 non-null    float64\n",
            " 17  DFA               195 non-null    float64\n",
            " 18  spread1           195 non-null    float64\n",
            " 19  spread2           195 non-null    float64\n",
            " 20  D2                195 non-null    float64\n",
            " 21  PPE               195 non-null    float64\n",
            " 22  status            195 non-null    int64  \n",
            "dtypes: float64(22), int64(1)\n",
            "memory usage: 35.2 KB\n"
          ]
        }
      ]
    },
    {
      "cell_type": "markdown",
      "metadata": {
        "id": "oqal8piPmibV"
      },
      "source": [
        "**TRAINING DATASET**"
      ]
    },
    {
      "cell_type": "code",
      "metadata": {
        "colab": {
          "base_uri": "https://localhost:8080/"
        },
        "id": "zw_75uVAd8cy",
        "outputId": "9b7b76ba-6484-45c2-ca92-3790d7171c3c"
      },
      "source": [
        "X = dataset.iloc[:, :-1].values\n",
        "y = dataset.iloc[:, -1].values\n",
        "from sklearn.model_selection import train_test_split\n",
        "X_train, X_test, y_train, y_test = train_test_split(X, y, test_size = 0.25, random_state = 0)\n",
        "print(X_train)"
      ],
      "execution_count": 8,
      "outputs": [
        {
          "output_type": "stream",
          "name": "stdout",
          "text": [
            "[[1.482720e+02 1.649890e+02 1.422990e+02 ... 8.784000e-02 2.344336e+00\n",
            "  1.864890e-01]\n",
            " [1.162860e+02 1.772910e+02 9.698300e+01 ... 1.339170e-01 2.058658e+00\n",
            "  2.143460e-01]\n",
            " [1.636560e+02 2.008410e+02 7.677900e+01 ... 2.208900e-01 2.692176e+00\n",
            "  2.159610e-01]\n",
            " ...\n",
            " [1.707560e+02 4.502470e+02 7.903200e+01 ... 3.721140e-01 2.975889e+00\n",
            "  2.827800e-01]\n",
            " [2.524550e+02 2.614870e+02 1.827860e+02 ... 2.008730e-01 2.028612e+00\n",
            "  8.639800e-02]\n",
            " [1.107390e+02 1.135970e+02 1.001390e+02 ... 1.923750e-01 1.889002e+00\n",
            "  1.741520e-01]]\n"
          ]
        }
      ]
    },
    {
      "cell_type": "code",
      "metadata": {
        "colab": {
          "base_uri": "https://localhost:8080/"
        },
        "id": "1KPnwYSthpJi",
        "outputId": "ce476ea3-ec35-414f-cc03-37b1b6330bfb"
      },
      "source": [
        "y_test"
      ],
      "execution_count": 9,
      "outputs": [
        {
          "output_type": "execute_result",
          "data": {
            "text/plain": [
              "array([1, 1, 0, 1, 0, 1, 1, 1, 1, 1, 1, 1, 1, 1, 0, 1, 1, 0, 0, 1, 1, 0,\n",
              "       1, 1, 0, 1, 1, 0, 0, 0, 1, 1, 1, 1, 1, 1, 1, 1, 1, 1, 1, 1, 1, 1,\n",
              "       0, 1, 1, 1, 1])"
            ]
          },
          "metadata": {},
          "execution_count": 9
        }
      ]
    },
    {
      "cell_type": "markdown",
      "metadata": {
        "id": "zCNzpX91mmtu"
      },
      "source": [
        "**DATA PREPROCESSING**"
      ]
    },
    {
      "cell_type": "code",
      "metadata": {
        "id": "mpv8kaaLce85"
      },
      "source": [
        "from sklearn.preprocessing import StandardScaler\t\n",
        "sc = StandardScaler()\n",
        "X_train = sc.fit_transform(X_train)\n",
        "X_test = sc.transform(X_test)"
      ],
      "execution_count": 10,
      "outputs": []
    },
    {
      "cell_type": "markdown",
      "metadata": {
        "id": "fYIT_OnFmtG2"
      },
      "source": [
        "**TRAINING MODEL**"
      ]
    },
    {
      "cell_type": "code",
      "metadata": {
        "id": "TjN-gnGVeJFD"
      },
      "source": [
        "from xgboost import XGBClassifier\n",
        "model=XGBClassifier(eval_metric='mlogloss')\n",
        "xgb=model.fit(X_train,y_train)"
      ],
      "execution_count": 14,
      "outputs": []
    },
    {
      "cell_type": "markdown",
      "metadata": {
        "id": "jeWzPoICm7Dl"
      },
      "source": [
        "**INFORMATION ON THE MODEL**"
      ]
    },
    {
      "cell_type": "code",
      "metadata": {
        "colab": {
          "base_uri": "https://localhost:8080/"
        },
        "id": "uOHk987BeSeh",
        "outputId": "83c32c6f-4c0e-4a59-cbb0-3eaf5476846f"
      },
      "source": [
        "xgb.score(X,y)"
      ],
      "execution_count": 16,
      "outputs": [
        {
          "output_type": "execute_result",
          "data": {
            "text/plain": [
              "0.7538461538461538"
            ]
          },
          "metadata": {},
          "execution_count": 16
        }
      ]
    },
    {
      "cell_type": "code",
      "metadata": {
        "id": "EzVtRA0eeVRR"
      },
      "source": [
        "y_pred = model.predict(X_test)\n",
        "print(np.concatenate((y_pred.reshape(len(y_pred),1), y_test.reshape(len(y_test),1)),1))"
      ],
      "execution_count": null,
      "outputs": []
    },
    {
      "cell_type": "code",
      "metadata": {
        "colab": {
          "base_uri": "https://localhost:8080/",
          "height": 110
        },
        "id": "hdgtcVfdea9R",
        "outputId": "cc92bd1f-a943-4d76-cb3b-df77313dc7e2"
      },
      "source": [
        "from sklearn.metrics import confusion_matrix, accuracy_score\n",
        "cm = confusion_matrix(y_test, y_pred)\n",
        "pd.DataFrame(cm,columns=['Predicted Healthy', 'Predicted Parkinsons'], index=['True Healthy', 'True Parkinsons'])"
      ],
      "execution_count": 18,
      "outputs": [
        {
          "output_type": "execute_result",
          "data": {
            "text/html": [
              "<div>\n",
              "<style scoped>\n",
              "    .dataframe tbody tr th:only-of-type {\n",
              "        vertical-align: middle;\n",
              "    }\n",
              "\n",
              "    .dataframe tbody tr th {\n",
              "        vertical-align: top;\n",
              "    }\n",
              "\n",
              "    .dataframe thead th {\n",
              "        text-align: right;\n",
              "    }\n",
              "</style>\n",
              "<table border=\"1\" class=\"dataframe\">\n",
              "  <thead>\n",
              "    <tr style=\"text-align: right;\">\n",
              "      <th></th>\n",
              "      <th>Predicted Healthy</th>\n",
              "      <th>Predicted Parkinsons</th>\n",
              "    </tr>\n",
              "  </thead>\n",
              "  <tbody>\n",
              "    <tr>\n",
              "      <th>True Healthy</th>\n",
              "      <td>11</td>\n",
              "      <td>0</td>\n",
              "    </tr>\n",
              "    <tr>\n",
              "      <th>True Parkinsons</th>\n",
              "      <td>2</td>\n",
              "      <td>36</td>\n",
              "    </tr>\n",
              "  </tbody>\n",
              "</table>\n",
              "</div>"
            ],
            "text/plain": [
              "                 Predicted Healthy  Predicted Parkinsons\n",
              "True Healthy                    11                     0\n",
              "True Parkinsons                  2                    36"
            ]
          },
          "metadata": {},
          "execution_count": 18
        }
      ]
    },
    {
      "cell_type": "code",
      "metadata": {
        "id": "XPrZIZeswwVt",
        "colab": {
          "base_uri": "https://localhost:8080/"
        },
        "outputId": "130f8d3b-5c03-4cb6-cd95-2d718d5e5f15"
      },
      "source": [
        "accuracy_score(y_test, y_pred)"
      ],
      "execution_count": 19,
      "outputs": [
        {
          "output_type": "execute_result",
          "data": {
            "text/plain": [
              "0.9591836734693877"
            ]
          },
          "metadata": {},
          "execution_count": 19
        }
      ]
    },
    {
      "cell_type": "markdown",
      "metadata": {
        "id": "23Lwhb1BnDz9"
      },
      "source": [
        "**PREDICTING A RANDOM VALUE**"
      ]
    },
    {
      "cell_type": "code",
      "metadata": {
        "colab": {
          "base_uri": "https://localhost:8080/"
        },
        "id": "S4PIhLBFgUNI",
        "outputId": "406ee0bd-bd96-4795-a395-200cbd477fa9"
      },
      "source": [
        "print(model.predict(sc.transform([[197.076, 206.896, 192.055, 0.00289, 0.00001, 0.00166, 0.00168, 0.00498,\t0.01098, 0.097, 0.00563, 0.0068, 0.00802, 0.01689, 0.00339, 26.775, 0.422229, 0.741367, -7.3483, 0.177551, 1.743867, 0.085569\n",
        "]])))"
      ],
      "execution_count": 21,
      "outputs": [
        {
          "output_type": "stream",
          "name": "stdout",
          "text": [
            "[0]\n"
          ]
        }
      ]
    },
    {
      "cell_type": "markdown",
      "metadata": {
        "id": "FWHy3EZKnKg1"
      },
      "source": [
        "THE RESULT IS SAME AS THE VALUE GIVEN IN THE DATASET"
      ]
    },
    {
      "cell_type": "code",
      "metadata": {
        "id": "X7hSt6vPentK"
      },
      "source": [
        "df = pd.DataFrame({ 'Actual': y_test, 'Predicted': y_pred})  "
      ],
      "execution_count": 22,
      "outputs": []
    },
    {
      "cell_type": "code",
      "metadata": {
        "colab": {
          "base_uri": "https://localhost:8080/"
        },
        "id": "zRE2oDR9mXlt",
        "outputId": "e78f5ace-c434-43a6-c7b6-92ff260c5174"
      },
      "source": [
        "comparison_column = np.where(df[\"Actual\"] == df[\"Predicted\"], True, False)\n",
        "df[\"equal\"] = comparison_column\n",
        "print(df)"
      ],
      "execution_count": 23,
      "outputs": [
        {
          "output_type": "stream",
          "name": "stdout",
          "text": [
            "    Actual  Predicted  equal\n",
            "0        1          1   True\n",
            "1        1          1   True\n",
            "2        0          0   True\n",
            "3        1          1   True\n",
            "4        0          0   True\n",
            "5        1          1   True\n",
            "6        1          0  False\n",
            "7        1          1   True\n",
            "8        1          1   True\n",
            "9        1          1   True\n",
            "10       1          0  False\n",
            "11       1          1   True\n",
            "12       1          1   True\n",
            "13       1          1   True\n",
            "14       0          0   True\n",
            "15       1          1   True\n",
            "16       1          1   True\n",
            "17       0          0   True\n",
            "18       0          0   True\n",
            "19       1          1   True\n",
            "20       1          1   True\n",
            "21       0          0   True\n",
            "22       1          1   True\n",
            "23       1          1   True\n",
            "24       0          0   True\n",
            "25       1          1   True\n",
            "26       1          1   True\n",
            "27       0          0   True\n",
            "28       0          0   True\n",
            "29       0          0   True\n",
            "30       1          1   True\n",
            "31       1          1   True\n",
            "32       1          1   True\n",
            "33       1          1   True\n",
            "34       1          1   True\n",
            "35       1          1   True\n",
            "36       1          1   True\n",
            "37       1          1   True\n",
            "38       1          1   True\n",
            "39       1          1   True\n",
            "40       1          1   True\n",
            "41       1          1   True\n",
            "42       1          1   True\n",
            "43       1          1   True\n",
            "44       0          0   True\n",
            "45       1          1   True\n",
            "46       1          1   True\n",
            "47       1          1   True\n",
            "48       1          1   True\n"
          ]
        }
      ]
    },
    {
      "cell_type": "code",
      "metadata": {
        "colab": {
          "base_uri": "https://localhost:8080/"
        },
        "id": "R2eq2MLuqJ7r",
        "outputId": "d1ea2bfa-0991-4b05-94a0-20a175b60e1c"
      },
      "source": [
        "df.value_counts()"
      ],
      "execution_count": 24,
      "outputs": [
        {
          "output_type": "execute_result",
          "data": {
            "text/plain": [
              "Actual  Predicted  equal\n",
              "1       1          True     36\n",
              "0       0          True     11\n",
              "1       0          False     2\n",
              "dtype: int64"
            ]
          },
          "metadata": {},
          "execution_count": 24
        }
      ]
    }
  ]
}