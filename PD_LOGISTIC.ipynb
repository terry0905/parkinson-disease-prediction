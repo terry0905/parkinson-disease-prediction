{
  "nbformat": 4,
  "nbformat_minor": 0,
  "metadata": {
    "colab": {
      "name": "PD LOGISTIC.ipynb",
      "provenance": [],
      "collapsed_sections": []
    },
    "kernelspec": {
      "name": "python3",
      "display_name": "Python 3"
    },
    "language_info": {
      "name": "python"
    }
  },
  "cells": [
    {
      "cell_type": "markdown",
      "metadata": {
        "id": "Vqm1B9UbmGgO"
      },
      "source": [
        "**Parkinson's diseases detection**\n",
        "\n",
        "**Task details:**\n",
        "\n",
        "This dataset is composed of a range of biomedical voice measurements from\n",
        "31 people, 23 with Parkinson's disease (PD). Each column in the table is a\n",
        "particular voice measure, and each row corresponds to one of 195 voice\n",
        "recordings from these individuals (\"name\" column). The main aim of the data\n",
        "is to discriminate healthy people from those with PD, according to the \"status\"\n",
        "column which is set to 0 for healthy and 1 for PD."
      ]
    },
    {
      "cell_type": "markdown",
      "metadata": {
        "id": "DQgPoytumXTV"
      },
      "source": [
        "**IMPORTING DATASET**"
      ]
    },
    {
      "cell_type": "code",
      "metadata": {
        "id": "6sKJkN7lcL2F"
      },
      "source": [
        "import numpy as np\n",
        "import matplotlib.pyplot as plt\n",
        "import pandas as pd"
      ],
      "execution_count": 1,
      "outputs": []
    },
    {
      "cell_type": "code",
      "metadata": {
        "colab": {
          "base_uri": "https://localhost:8080/"
        },
        "id": "bk3coXjOcSAL",
        "outputId": "14889f89-2abb-4cb6-ba4e-3ce3da18d234"
      },
      "source": [
        "dataset = pd.read_csv('/content/Parkinsson disease_mod.csv')\n",
        "dataset.info()"
      ],
      "execution_count": 2,
      "outputs": [
        {
          "output_type": "stream",
          "name": "stdout",
          "text": [
            "<class 'pandas.core.frame.DataFrame'>\n",
            "RangeIndex: 195 entries, 0 to 194\n",
            "Data columns (total 24 columns):\n",
            " #   Column            Non-Null Count  Dtype  \n",
            "---  ------            --------------  -----  \n",
            " 0   name              195 non-null    object \n",
            " 1   MDVP:Fo(Hz)       195 non-null    float64\n",
            " 2   MDVP:Fhi(Hz)      195 non-null    float64\n",
            " 3   MDVP:Flo(Hz)      195 non-null    float64\n",
            " 4   MDVP:Jitter(%)    195 non-null    float64\n",
            " 5   MDVP:Jitter(Abs)  195 non-null    float64\n",
            " 6   MDVP:RAP          195 non-null    float64\n",
            " 7   MDVP:PPQ          195 non-null    float64\n",
            " 8   Jitter:DDP        195 non-null    float64\n",
            " 9   MDVP:Shimmer      195 non-null    float64\n",
            " 10  MDVP:Shimmer(dB)  195 non-null    float64\n",
            " 11  Shimmer:APQ3      195 non-null    float64\n",
            " 12  Shimmer:APQ5      195 non-null    float64\n",
            " 13  MDVP:APQ          195 non-null    float64\n",
            " 14  Shimmer:DDA       195 non-null    float64\n",
            " 15  NHR               195 non-null    float64\n",
            " 16  HNR               195 non-null    float64\n",
            " 17  RPDE              195 non-null    float64\n",
            " 18  DFA               195 non-null    float64\n",
            " 19  spread1           195 non-null    float64\n",
            " 20  spread2           195 non-null    float64\n",
            " 21  D2                195 non-null    float64\n",
            " 22  PPE               195 non-null    float64\n",
            " 23  status            195 non-null    int64  \n",
            "dtypes: float64(22), int64(1), object(1)\n",
            "memory usage: 36.7+ KB\n"
          ]
        }
      ]
    },
    {
      "cell_type": "code",
      "metadata": {
        "id": "zmOdnDkefGwS"
      },
      "source": [
        "name=dataset['name']"
      ],
      "execution_count": 3,
      "outputs": []
    },
    {
      "cell_type": "code",
      "metadata": {
        "id": "BnS7_-4cduTi"
      },
      "source": [
        "dataset.drop(['name'], axis=1, inplace=True)"
      ],
      "execution_count": 4,
      "outputs": []
    },
    {
      "cell_type": "code",
      "metadata": {
        "colab": {
          "base_uri": "https://localhost:8080/"
        },
        "id": "jXplQlKFd6Rh",
        "outputId": "6578e273-d3fd-4b7f-a598-8b70e9075d74"
      },
      "source": [
        "dataset.info()"
      ],
      "execution_count": 5,
      "outputs": [
        {
          "output_type": "stream",
          "name": "stdout",
          "text": [
            "<class 'pandas.core.frame.DataFrame'>\n",
            "RangeIndex: 195 entries, 0 to 194\n",
            "Data columns (total 23 columns):\n",
            " #   Column            Non-Null Count  Dtype  \n",
            "---  ------            --------------  -----  \n",
            " 0   MDVP:Fo(Hz)       195 non-null    float64\n",
            " 1   MDVP:Fhi(Hz)      195 non-null    float64\n",
            " 2   MDVP:Flo(Hz)      195 non-null    float64\n",
            " 3   MDVP:Jitter(%)    195 non-null    float64\n",
            " 4   MDVP:Jitter(Abs)  195 non-null    float64\n",
            " 5   MDVP:RAP          195 non-null    float64\n",
            " 6   MDVP:PPQ          195 non-null    float64\n",
            " 7   Jitter:DDP        195 non-null    float64\n",
            " 8   MDVP:Shimmer      195 non-null    float64\n",
            " 9   MDVP:Shimmer(dB)  195 non-null    float64\n",
            " 10  Shimmer:APQ3      195 non-null    float64\n",
            " 11  Shimmer:APQ5      195 non-null    float64\n",
            " 12  MDVP:APQ          195 non-null    float64\n",
            " 13  Shimmer:DDA       195 non-null    float64\n",
            " 14  NHR               195 non-null    float64\n",
            " 15  HNR               195 non-null    float64\n",
            " 16  RPDE              195 non-null    float64\n",
            " 17  DFA               195 non-null    float64\n",
            " 18  spread1           195 non-null    float64\n",
            " 19  spread2           195 non-null    float64\n",
            " 20  D2                195 non-null    float64\n",
            " 21  PPE               195 non-null    float64\n",
            " 22  status            195 non-null    int64  \n",
            "dtypes: float64(22), int64(1)\n",
            "memory usage: 35.2 KB\n"
          ]
        }
      ]
    },
    {
      "cell_type": "markdown",
      "metadata": {
        "id": "oqal8piPmibV"
      },
      "source": [
        "**TRAINING DATASET**"
      ]
    },
    {
      "cell_type": "code",
      "metadata": {
        "colab": {
          "base_uri": "https://localhost:8080/"
        },
        "id": "zw_75uVAd8cy",
        "outputId": "99acad58-56c1-4948-d93c-86c568e9d861"
      },
      "source": [
        "X = dataset.iloc[:, :-1].values\n",
        "y = dataset.iloc[:, -1].values\n",
        "from sklearn.model_selection import train_test_split\n",
        "X_train, X_test, y_train, y_test = train_test_split(X, y, test_size = 0.25, random_state = 0)\n",
        "print(X_train)"
      ],
      "execution_count": 6,
      "outputs": [
        {
          "output_type": "stream",
          "name": "stdout",
          "text": [
            "[[1.482720e+02 1.649890e+02 1.422990e+02 ... 8.784000e-02 2.344336e+00\n",
            "  1.864890e-01]\n",
            " [1.162860e+02 1.772910e+02 9.698300e+01 ... 1.339170e-01 2.058658e+00\n",
            "  2.143460e-01]\n",
            " [1.636560e+02 2.008410e+02 7.677900e+01 ... 2.208900e-01 2.692176e+00\n",
            "  2.159610e-01]\n",
            " ...\n",
            " [1.707560e+02 4.502470e+02 7.903200e+01 ... 3.721140e-01 2.975889e+00\n",
            "  2.827800e-01]\n",
            " [2.524550e+02 2.614870e+02 1.827860e+02 ... 2.008730e-01 2.028612e+00\n",
            "  8.639800e-02]\n",
            " [1.107390e+02 1.135970e+02 1.001390e+02 ... 1.923750e-01 1.889002e+00\n",
            "  1.741520e-01]]\n"
          ]
        }
      ]
    },
    {
      "cell_type": "code",
      "metadata": {
        "colab": {
          "base_uri": "https://localhost:8080/"
        },
        "id": "1KPnwYSthpJi",
        "outputId": "864dc269-b625-4bf3-e127-88f1285273db"
      },
      "source": [
        "y_test"
      ],
      "execution_count": 7,
      "outputs": [
        {
          "output_type": "execute_result",
          "data": {
            "text/plain": [
              "array([1, 1, 0, 1, 0, 1, 1, 1, 1, 1, 1, 1, 1, 1, 0, 1, 1, 0, 0, 1, 1, 0,\n",
              "       1, 1, 0, 1, 1, 0, 0, 0, 1, 1, 1, 1, 1, 1, 1, 1, 1, 1, 1, 1, 1, 1,\n",
              "       0, 1, 1, 1, 1])"
            ]
          },
          "metadata": {},
          "execution_count": 7
        }
      ]
    },
    {
      "cell_type": "markdown",
      "metadata": {
        "id": "zCNzpX91mmtu"
      },
      "source": [
        "**DATA PREPROCESSING**"
      ]
    },
    {
      "cell_type": "code",
      "metadata": {
        "id": "mpv8kaaLce85"
      },
      "source": [
        "from sklearn.preprocessing import StandardScaler\t\n",
        "sc = StandardScaler()\n",
        "X_train = sc.fit_transform(X_train)\n",
        "X_test = sc.transform(X_test)"
      ],
      "execution_count": 8,
      "outputs": []
    },
    {
      "cell_type": "markdown",
      "metadata": {
        "id": "fYIT_OnFmtG2"
      },
      "source": [
        "**TRAINING MODEL**"
      ]
    },
    {
      "cell_type": "code",
      "metadata": {
        "id": "TjN-gnGVeJFD"
      },
      "source": [
        "from sklearn.linear_model import LogisticRegression\n",
        "classifier = LogisticRegression(random_state = 0)\n",
        "cf=classifier.fit(X_train, y_train)\n"
      ],
      "execution_count": 9,
      "outputs": []
    },
    {
      "cell_type": "markdown",
      "metadata": {
        "id": "jeWzPoICm7Dl"
      },
      "source": [
        "**INFORMATION ON THE MODEL**"
      ]
    },
    {
      "cell_type": "code",
      "metadata": {
        "colab": {
          "base_uri": "https://localhost:8080/"
        },
        "id": "XTtXfOigm3Q9",
        "outputId": "80071400-58e8-493d-b542-f77cb6519cdd"
      },
      "source": [
        "cf.intercept_"
      ],
      "execution_count": 10,
      "outputs": [
        {
          "output_type": "execute_result",
          "data": {
            "text/plain": [
              "array([2.41941001])"
            ]
          },
          "metadata": {},
          "execution_count": 10
        }
      ]
    },
    {
      "cell_type": "code",
      "metadata": {
        "colab": {
          "base_uri": "https://localhost:8080/"
        },
        "id": "VDDWX7WneMe8",
        "outputId": "aa839301-a587-4dcc-80cf-4aaf5f3abdac"
      },
      "source": [
        "cf.coef_"
      ],
      "execution_count": 11,
      "outputs": [
        {
          "output_type": "execute_result",
          "data": {
            "text/plain": [
              "array([[-0.36467424, -0.18963561, -0.08087498, -0.55668145, -0.40446092,\n",
              "         0.35688054, -0.38936402,  0.35704717,  0.4011406 ,  0.32010808,\n",
              "        -0.10063413,  0.44862599,  0.81662531, -0.1008186 , -0.07182521,\n",
              "         0.45501002, -0.80293441,  0.13465027,  1.15935581,  0.65386924,\n",
              "         0.57687768,  0.98886227]])"
            ]
          },
          "metadata": {},
          "execution_count": 11
        }
      ]
    },
    {
      "cell_type": "code",
      "metadata": {
        "colab": {
          "base_uri": "https://localhost:8080/"
        },
        "id": "hM_bx5gIeO7R",
        "outputId": "034c13ec-54aa-4b09-a29b-da4e25c0b8eb"
      },
      "source": [
        "cf.predict_proba(X)"
      ],
      "execution_count": 12,
      "outputs": [
        {
          "output_type": "execute_result",
          "data": {
            "text/plain": [
              "array([[1.00000000e+00, 8.84265750e-32],\n",
              "       [1.00000000e+00, 1.05884486e-32],\n",
              "       [1.00000000e+00, 3.20320845e-30],\n",
              "       [1.00000000e+00, 1.44825427e-30],\n",
              "       [1.00000000e+00, 8.90074528e-31],\n",
              "       [1.00000000e+00, 1.05268127e-30],\n",
              "       [1.00000000e+00, 1.74145447e-31],\n",
              "       [1.00000000e+00, 5.11919238e-27],\n",
              "       [1.00000000e+00, 9.39640496e-27],\n",
              "       [1.00000000e+00, 2.63700810e-25],\n",
              "       [1.00000000e+00, 1.21802714e-23],\n",
              "       [1.00000000e+00, 2.69061906e-24],\n",
              "       [1.00000000e+00, 7.64945975e-37],\n",
              "       [1.00000000e+00, 2.20798374e-36],\n",
              "       [1.00000000e+00, 1.40239327e-37],\n",
              "       [1.00000000e+00, 3.71489177e-40],\n",
              "       [1.00000000e+00, 6.66699206e-52],\n",
              "       [1.00000000e+00, 1.08840191e-44],\n",
              "       [1.00000000e+00, 2.02560810e-38],\n",
              "       [1.00000000e+00, 3.95120117e-43],\n",
              "       [1.00000000e+00, 8.38781075e-38],\n",
              "       [1.00000000e+00, 4.53368638e-39],\n",
              "       [1.00000000e+00, 7.09414314e-42],\n",
              "       [1.00000000e+00, 5.37305003e-44],\n",
              "       [1.00000000e+00, 3.71481333e-42],\n",
              "       [1.00000000e+00, 1.49824797e-33],\n",
              "       [1.00000000e+00, 7.39592320e-44],\n",
              "       [1.00000000e+00, 1.58948537e-40],\n",
              "       [1.00000000e+00, 1.11809345e-43],\n",
              "       [1.00000000e+00, 3.23302418e-42],\n",
              "       [1.00000000e+00, 1.21137683e-52],\n",
              "       [1.00000000e+00, 1.80745189e-52],\n",
              "       [1.00000000e+00, 1.04786563e-52],\n",
              "       [1.00000000e+00, 4.40690688e-53],\n",
              "       [1.00000000e+00, 2.77933214e-53],\n",
              "       [1.00000000e+00, 8.18013445e-53],\n",
              "       [1.00000000e+00, 1.95370201e-47],\n",
              "       [1.00000000e+00, 5.62141547e-46],\n",
              "       [1.00000000e+00, 2.68384921e-48],\n",
              "       [1.00000000e+00, 2.69165305e-49],\n",
              "       [1.00000000e+00, 4.61141197e-49],\n",
              "       [1.00000000e+00, 1.42165478e-48],\n",
              "       [1.00000000e+00, 4.44475695e-64],\n",
              "       [1.00000000e+00, 7.57495000e-65],\n",
              "       [1.00000000e+00, 4.83067475e-65],\n",
              "       [1.00000000e+00, 3.81508838e-65],\n",
              "       [1.00000000e+00, 1.88686128e-66],\n",
              "       [1.00000000e+00, 1.47935514e-65],\n",
              "       [1.00000000e+00, 7.90020182e-32],\n",
              "       [1.00000000e+00, 1.09309647e-31],\n",
              "       [1.00000000e+00, 1.49911567e-32],\n",
              "       [1.00000000e+00, 1.74740417e-32],\n",
              "       [1.00000000e+00, 9.33274938e-34],\n",
              "       [1.00000000e+00, 1.26893535e-33],\n",
              "       [1.00000000e+00, 3.38589315e-29],\n",
              "       [1.00000000e+00, 1.32995732e-28],\n",
              "       [1.00000000e+00, 5.64846863e-29],\n",
              "       [1.00000000e+00, 5.20873749e-30],\n",
              "       [1.00000000e+00, 4.69263980e-30],\n",
              "       [1.00000000e+00, 2.38227811e-41],\n",
              "       [1.00000000e+00, 4.59993315e-54],\n",
              "       [1.00000000e+00, 3.83708437e-56],\n",
              "       [1.00000000e+00, 5.86980015e-59],\n",
              "       [1.00000000e+00, 5.80581648e-61],\n",
              "       [1.00000000e+00, 1.38477230e-62],\n",
              "       [1.00000000e+00, 6.10957400e-58],\n",
              "       [1.00000000e+00, 1.39570263e-35],\n",
              "       [1.00000000e+00, 1.74373034e-35],\n",
              "       [1.00000000e+00, 2.06270497e-36],\n",
              "       [1.00000000e+00, 3.58313569e-37],\n",
              "       [1.00000000e+00, 3.36569223e-36],\n",
              "       [1.00000000e+00, 2.63444336e-36],\n",
              "       [1.00000000e+00, 2.62019419e-31],\n",
              "       [1.00000000e+00, 5.30819876e-67],\n",
              "       [1.00000000e+00, 1.55510302e-28],\n",
              "       [1.00000000e+00, 3.39363035e-28],\n",
              "       [1.00000000e+00, 3.11167209e-31],\n",
              "       [1.00000000e+00, 2.50879406e-28],\n",
              "       [1.00000000e+00, 4.65749371e-24],\n",
              "       [1.00000000e+00, 3.76544415e-26],\n",
              "       [1.00000000e+00, 1.63045621e-24],\n",
              "       [1.00000000e+00, 7.83607507e-25],\n",
              "       [1.00000000e+00, 6.72583268e-26],\n",
              "       [1.00000000e+00, 5.61452348e-25],\n",
              "       [1.00000000e+00, 2.84840866e-46],\n",
              "       [1.00000000e+00, 4.43402069e-49],\n",
              "       [1.00000000e+00, 7.16811224e-49],\n",
              "       [1.00000000e+00, 7.50724998e-50],\n",
              "       [1.00000000e+00, 2.27332258e-46],\n",
              "       [1.00000000e+00, 1.31753070e-50],\n",
              "       [1.00000000e+00, 1.02597237e-44],\n",
              "       [1.00000000e+00, 5.40765092e-41],\n",
              "       [1.00000000e+00, 2.21016199e-40],\n",
              "       [1.00000000e+00, 4.51692434e-38],\n",
              "       [1.00000000e+00, 1.72216489e-39],\n",
              "       [1.00000000e+00, 1.60098179e-41],\n",
              "       [1.00000000e+00, 6.48775498e-42],\n",
              "       [1.00000000e+00, 1.24682546e-33],\n",
              "       [1.00000000e+00, 2.12071449e-33],\n",
              "       [1.00000000e+00, 1.69211365e-33],\n",
              "       [1.00000000e+00, 1.89781747e-34],\n",
              "       [1.00000000e+00, 2.21425895e-33],\n",
              "       [1.00000000e+00, 5.34021095e-71],\n",
              "       [1.00000000e+00, 1.71303092e-36],\n",
              "       [1.00000000e+00, 3.48198643e-39],\n",
              "       [1.00000000e+00, 7.67232070e-39],\n",
              "       [1.00000000e+00, 7.56732898e-40],\n",
              "       [1.00000000e+00, 9.04203461e-39],\n",
              "       [1.00000000e+00, 3.12988774e-38],\n",
              "       [1.00000000e+00, 3.79751415e-48],\n",
              "       [1.00000000e+00, 2.25268225e-50],\n",
              "       [1.00000000e+00, 5.65037975e-56],\n",
              "       [1.00000000e+00, 1.53088455e-54],\n",
              "       [1.00000000e+00, 2.88948337e-56],\n",
              "       [1.00000000e+00, 1.71339520e-52],\n",
              "       [1.00000000e+00, 1.29145217e-63],\n",
              "       [1.00000000e+00, 7.93889602e-61],\n",
              "       [1.00000000e+00, 6.12110999e-63],\n",
              "       [1.00000000e+00, 5.70721538e-64],\n",
              "       [1.00000000e+00, 1.11774183e-53],\n",
              "       [1.00000000e+00, 3.35545229e-60],\n",
              "       [1.00000000e+00, 1.34653977e-44],\n",
              "       [1.00000000e+00, 9.31207918e-40],\n",
              "       [1.00000000e+00, 5.39903471e-46],\n",
              "       [1.00000000e+00, 5.07012046e-42],\n",
              "       [1.00000000e+00, 1.81522344e-40],\n",
              "       [1.00000000e+00, 2.12603915e-39],\n",
              "       [1.00000000e+00, 4.31967537e-44],\n",
              "       [1.00000000e+00, 1.85897222e-30],\n",
              "       [1.00000000e+00, 4.87345199e-30],\n",
              "       [1.00000000e+00, 1.73983638e-30],\n",
              "       [1.00000000e+00, 5.53216426e-30],\n",
              "       [1.00000000e+00, 2.62742868e-29],\n",
              "       [1.00000000e+00, 3.36415273e-30],\n",
              "       [1.00000000e+00, 1.04598331e-27],\n",
              "       [1.00000000e+00, 7.72896695e-30],\n",
              "       [1.00000000e+00, 3.83576141e-30],\n",
              "       [1.00000000e+00, 4.13130793e-30],\n",
              "       [1.00000000e+00, 3.05053533e-30],\n",
              "       [1.00000000e+00, 2.20912386e-31],\n",
              "       [1.00000000e+00, 1.65436301e-49],\n",
              "       [1.00000000e+00, 1.31992245e-55],\n",
              "       [1.00000000e+00, 7.94288658e-53],\n",
              "       [1.00000000e+00, 1.59611253e-52],\n",
              "       [1.00000000e+00, 1.02729186e-55],\n",
              "       [1.00000000e+00, 8.52313775e-58],\n",
              "       [1.00000000e+00, 1.03105554e-45],\n",
              "       [1.00000000e+00, 1.51185166e-50],\n",
              "       [1.00000000e+00, 2.23091881e-51],\n",
              "       [1.00000000e+00, 4.02874560e-83],\n",
              "       [1.00000000e+00, 9.34697128e-51],\n",
              "       [1.00000000e+00, 5.56778724e-53],\n",
              "       [1.00000000e+00, 8.03055184e-55],\n",
              "       [1.00000000e+00, 1.64695598e-31],\n",
              "       [1.00000000e+00, 1.96441258e-29],\n",
              "       [1.00000000e+00, 6.21240459e-29],\n",
              "       [1.00000000e+00, 1.32042278e-31],\n",
              "       [1.00000000e+00, 4.44216902e-30],\n",
              "       [1.00000000e+00, 2.62154868e-33],\n",
              "       [1.00000000e+00, 1.25464009e-33],\n",
              "       [1.00000000e+00, 1.10798693e-28],\n",
              "       [1.00000000e+00, 4.68267737e-31],\n",
              "       [1.00000000e+00, 7.35113415e-30],\n",
              "       [1.00000000e+00, 7.43716526e-30],\n",
              "       [1.00000000e+00, 1.02215671e-27],\n",
              "       [1.00000000e+00, 6.37704611e-59],\n",
              "       [1.00000000e+00, 1.45057128e-63],\n",
              "       [1.00000000e+00, 3.56895827e-70],\n",
              "       [1.00000000e+00, 2.35210370e-50],\n",
              "       [1.00000000e+00, 1.60806445e-64],\n",
              "       [1.00000000e+00, 3.24231080e-68],\n",
              "       [1.00000000e+00, 1.49177660e-29],\n",
              "       [1.00000000e+00, 2.32895213e-27],\n",
              "       [1.00000000e+00, 6.82084582e-28],\n",
              "       [1.00000000e+00, 4.51679386e-31],\n",
              "       [1.00000000e+00, 3.28110303e-29],\n",
              "       [1.00000000e+00, 7.17539897e-30],\n",
              "       [1.00000000e+00, 9.06332217e-42],\n",
              "       [1.00000000e+00, 6.67080807e-39],\n",
              "       [1.00000000e+00, 3.97456569e-38],\n",
              "       [1.00000000e+00, 5.58732723e-40],\n",
              "       [1.00000000e+00, 4.81400350e-39],\n",
              "       [1.00000000e+00, 6.07616145e-40],\n",
              "       [1.00000000e+00, 6.05244080e-30],\n",
              "       [1.00000000e+00, 2.61110839e-37],\n",
              "       [1.00000000e+00, 1.24597961e-33],\n",
              "       [1.00000000e+00, 6.43358193e-68],\n",
              "       [1.00000000e+00, 4.93333259e-67],\n",
              "       [1.00000000e+00, 1.01414702e-28],\n",
              "       [1.00000000e+00, 4.25723044e-55],\n",
              "       [1.00000000e+00, 2.55435758e-48],\n",
              "       [1.00000000e+00, 1.97676035e-55],\n",
              "       [1.00000000e+00, 6.86638753e-49],\n",
              "       [1.00000000e+00, 1.51096834e-65],\n",
              "       [1.00000000e+00, 8.24566345e-56]])"
            ]
          },
          "metadata": {},
          "execution_count": 12
        }
      ]
    },
    {
      "cell_type": "code",
      "metadata": {
        "colab": {
          "base_uri": "https://localhost:8080/"
        },
        "id": "uOHk987BeSeh",
        "outputId": "24312a63-a999-4379-ac24-4efbabdbf047"
      },
      "source": [
        "cf.score(X,y)"
      ],
      "execution_count": 13,
      "outputs": [
        {
          "output_type": "execute_result",
          "data": {
            "text/plain": [
              "0.24615384615384617"
            ]
          },
          "metadata": {},
          "execution_count": 13
        }
      ]
    },
    {
      "cell_type": "code",
      "metadata": {
        "id": "EzVtRA0eeVRR"
      },
      "source": [
        "y_pred = classifier.predict(X_test)\n",
        "print(np.concatenate((y_pred.reshape(len(y_pred),1), y_test.reshape(len(y_test),1)),1))"
      ],
      "execution_count": null,
      "outputs": []
    },
    {
      "cell_type": "code",
      "metadata": {
        "colab": {
          "base_uri": "https://localhost:8080/",
          "height": 110
        },
        "id": "hdgtcVfdea9R",
        "outputId": "8e29bbf5-a686-4b78-ab76-e57cce444a1a"
      },
      "source": [
        "from sklearn.metrics import confusion_matrix, accuracy_score\n",
        "cm = confusion_matrix(y_test, y_pred)\n",
        "pd.DataFrame(cm,columns=['Predicted Healthy', 'Predicted Parkinsons'], index=['True Healthy', 'True Parkinsons'])"
      ],
      "execution_count": 37,
      "outputs": [
        {
          "output_type": "execute_result",
          "data": {
            "text/html": [
              "<div>\n",
              "<style scoped>\n",
              "    .dataframe tbody tr th:only-of-type {\n",
              "        vertical-align: middle;\n",
              "    }\n",
              "\n",
              "    .dataframe tbody tr th {\n",
              "        vertical-align: top;\n",
              "    }\n",
              "\n",
              "    .dataframe thead th {\n",
              "        text-align: right;\n",
              "    }\n",
              "</style>\n",
              "<table border=\"1\" class=\"dataframe\">\n",
              "  <thead>\n",
              "    <tr style=\"text-align: right;\">\n",
              "      <th></th>\n",
              "      <th>Predicted Healthy</th>\n",
              "      <th>Predicted Parkinsons</th>\n",
              "    </tr>\n",
              "  </thead>\n",
              "  <tbody>\n",
              "    <tr>\n",
              "      <th>True Healthy</th>\n",
              "      <td>8</td>\n",
              "      <td>3</td>\n",
              "    </tr>\n",
              "    <tr>\n",
              "      <th>True Parkinsons</th>\n",
              "      <td>5</td>\n",
              "      <td>33</td>\n",
              "    </tr>\n",
              "  </tbody>\n",
              "</table>\n",
              "</div>"
            ],
            "text/plain": [
              "                 Predicted Healthy  Predicted Parkinsons\n",
              "True Healthy                     8                     3\n",
              "True Parkinsons                  5                    33"
            ]
          },
          "metadata": {},
          "execution_count": 37
        }
      ]
    },
    {
      "cell_type": "code",
      "metadata": {
        "colab": {
          "base_uri": "https://localhost:8080/"
        },
        "id": "XPrZIZeswwVt",
        "outputId": "10748c4b-d923-4133-a036-71d4e9cb3f5d"
      },
      "source": [
        "accuracy_score(y_test, y_pred)"
      ],
      "execution_count": 38,
      "outputs": [
        {
          "output_type": "execute_result",
          "data": {
            "text/plain": [
              "0.8367346938775511"
            ]
          },
          "metadata": {},
          "execution_count": 38
        }
      ]
    },
    {
      "cell_type": "markdown",
      "metadata": {
        "id": "23Lwhb1BnDz9"
      },
      "source": [
        "**PREDICTING A RANDOM VALUE**"
      ]
    },
    {
      "cell_type": "code",
      "metadata": {
        "colab": {
          "base_uri": "https://localhost:8080/"
        },
        "id": "S4PIhLBFgUNI",
        "outputId": "d32fd416-f60f-46fe-90de-f5b9ee9823d5"
      },
      "source": [
        "print(classifier.predict(sc.transform([[197.076, 206.896, 192.055, 0.00289, 0.00001, 0.00166, 0.00168, 0.00498,\t0.01098, 0.097, 0.00563, 0.0068, 0.00802, 0.01689, 0.00339, 26.775, 0.422229, 0.741367, -7.3483, 0.177551, 1.743867, 0.085569\n",
        "]])))"
      ],
      "execution_count": 16,
      "outputs": [
        {
          "output_type": "stream",
          "name": "stdout",
          "text": [
            "[0]\n"
          ]
        }
      ]
    },
    {
      "cell_type": "markdown",
      "metadata": {
        "id": "FWHy3EZKnKg1"
      },
      "source": [
        "THE RESULT IS SAME AS THE VALUE GIVEN IN THE DATASET"
      ]
    },
    {
      "cell_type": "code",
      "metadata": {
        "id": "X7hSt6vPentK"
      },
      "source": [
        "df = pd.DataFrame({ 'Actual': y_test, 'Predicted': y_pred})  "
      ],
      "execution_count": null,
      "outputs": []
    },
    {
      "cell_type": "code",
      "metadata": {
        "colab": {
          "base_uri": "https://localhost:8080/"
        },
        "id": "zRE2oDR9mXlt",
        "outputId": "c1d91591-3c35-4b07-d8e9-e64ff64ddead"
      },
      "source": [
        "comparison_column = np.where(df[\"Actual\"] == df[\"Predicted\"], True, False)\n",
        "df[\"equal\"] = comparison_column\n",
        "print(df)"
      ],
      "execution_count": 34,
      "outputs": [
        {
          "output_type": "stream",
          "name": "stdout",
          "text": [
            "    Actual  Predicted  equal\n",
            "0        1          0  False\n",
            "1        1          0  False\n",
            "2        0          0   True\n",
            "3        1          1   True\n",
            "4        0          1  False\n",
            "5        1          1   True\n",
            "6        1          1   True\n",
            "7        1          0  False\n",
            "8        1          1   True\n",
            "9        1          1   True\n",
            "10       1          0  False\n",
            "11       1          1   True\n",
            "12       1          0  False\n",
            "13       1          1   True\n",
            "14       0          0   True\n",
            "15       1          1   True\n",
            "16       1          1   True\n",
            "17       0          0   True\n",
            "18       0          0   True\n",
            "19       1          1   True\n",
            "20       1          1   True\n",
            "21       0          1  False\n",
            "22       1          1   True\n",
            "23       1          1   True\n",
            "24       0          0   True\n",
            "25       1          1   True\n",
            "26       1          1   True\n",
            "27       0          0   True\n",
            "28       0          1  False\n",
            "29       0          0   True\n",
            "30       1          1   True\n",
            "31       1          1   True\n",
            "32       1          1   True\n",
            "33       1          1   True\n",
            "34       1          1   True\n",
            "35       1          1   True\n",
            "36       1          1   True\n",
            "37       1          1   True\n",
            "38       1          1   True\n",
            "39       1          1   True\n",
            "40       1          1   True\n",
            "41       1          1   True\n",
            "42       1          1   True\n",
            "43       1          1   True\n",
            "44       0          0   True\n",
            "45       1          1   True\n",
            "46       1          1   True\n",
            "47       1          1   True\n",
            "48       1          1   True\n"
          ]
        }
      ]
    },
    {
      "cell_type": "code",
      "metadata": {
        "colab": {
          "base_uri": "https://localhost:8080/"
        },
        "id": "R2eq2MLuqJ7r",
        "outputId": "82d4589f-edb5-48c3-d82f-d8bd6f2c8ef3"
      },
      "source": [
        "df.value_counts()"
      ],
      "execution_count": 32,
      "outputs": [
        {
          "output_type": "execute_result",
          "data": {
            "text/plain": [
              "Actual  Predicted  equal\n",
              "1       1          True     33\n",
              "0       0          True      8\n",
              "1       0          False     5\n",
              "0       1          False     3\n",
              "dtype: int64"
            ]
          },
          "metadata": {},
          "execution_count": 32
        }
      ]
    }
  ]
}